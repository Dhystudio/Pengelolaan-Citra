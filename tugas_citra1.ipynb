{
 "cells": [
  {
   "cell_type": "code",
   "execution_count": 1,
   "id": "06cddfed-310c-4520-856e-af8f1cd9038f",
   "metadata": {},
   "outputs": [],
   "source": [
    "#library opencv\n",
    "import cv2\n",
    "#Memanggil Gambar\n",
    "imgrgb =cv2.imread(\"tommy.jpg\")\n",
    "#Transformasi Gambar RGB menjadi Grayscale\n",
    "imggray = cv2.imread(\"tommy.jpg\",0)\n",
    "#Menampilkan Gambar RGB\n",
    "cv2.imshow (\"Gambar RGB\",imgrgb)\n",
    "#Menampilkan Gambar Grayscale\n",
    "cv2.imshow (\"Gambar Gray\",imggray)\n",
    "cv2.waitKey(0); cv2.destroyAllWindows()"
   ]
  }
 ],
 "metadata": {
  "kernelspec": {
   "display_name": "Python 3 (ipykernel)",
   "language": "python",
   "name": "python3"
  },
  "language_info": {
   "codemirror_mode": {
    "name": "ipython",
    "version": 3
   },
   "file_extension": ".py",
   "mimetype": "text/x-python",
   "name": "python",
   "nbconvert_exporter": "python",
   "pygments_lexer": "ipython3",
   "version": "3.9.12"
  }
 },
 "nbformat": 4,
 "nbformat_minor": 5
}
